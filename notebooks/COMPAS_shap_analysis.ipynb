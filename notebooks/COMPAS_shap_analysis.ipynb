{
 "cells": [
  {
   "cell_type": "code",
   "execution_count": null,
   "id": "b0d7cfc7",
   "metadata": {},
   "outputs": [
    {
     "name": "stdout",
     "output_type": "stream",
     "text": [
      "None\n"
     ]
    }
   ],
   "source": [
    "print(SHAPExplainer.__doc__)\n"
   ]
  },
  {
   "cell_type": "code",
   "execution_count": 32,
   "id": "9bf342dd",
   "metadata": {},
   "outputs": [
    {
     "name": "stdout",
     "output_type": "stream",
     "text": [
      "None\n"
     ]
    },
    {
     "name": "stdout",
     "output_type": "stream",
     "text": [
      "shap_values shape: (200, 11, 2)\n",
      "X_train shape: (4937, 11)\n",
      "X_train.columns: ['Number_of_Priors', 'score_factor', 'Age_Above_FourtyFive', 'Age_Below_TwentyFive', 'African_American', 'Asian', 'Hispanic', 'Native_American', 'Other', 'Female', 'Misdemeanor']\n"
     ]
    },
    {
     "ename": "ValueError",
     "evalue": "The truth value of a DataFrame is ambiguous. Use a.empty, a.bool(), a.item(), a.any() or a.all().",
     "output_type": "error",
     "traceback": [
      "\u001b[31m---------------------------------------------------------------------------\u001b[39m",
      "\u001b[31mValueError\u001b[39m                                Traceback (most recent call last)",
      "\u001b[32m/tmp/ipykernel_13105/2243099908.py\u001b[39m in \u001b[36m?\u001b[39m\u001b[34m()\u001b[39m\n\u001b[32m     30\u001b[39m print(\u001b[33m\"X_train shape:\"\u001b[39m, X_train.shape)\n\u001b[32m     31\u001b[39m print(\u001b[33m\"X_train.columns:\"\u001b[39m, X_train.columns.tolist())\n\u001b[32m     32\u001b[39m \n\u001b[32m     33\u001b[39m \u001b[38;5;66;03m# Plot SHAP summary\u001b[39;00m\n\u001b[32m---> \u001b[39m\u001b[32m34\u001b[39m explainer.plot_summary(shap_values, features=X_train)\n\u001b[32m     35\u001b[39m \n\u001b[32m     36\u001b[39m \u001b[38;5;66;03m# Explain one instance\u001b[39;00m\n\u001b[32m     37\u001b[39m instance = X_test.iloc[\u001b[32m0\u001b[39m]\n",
      "\u001b[32m/workspaces/explainbench/explainbench/shap_wrapper.py\u001b[39m in \u001b[36m?\u001b[39m\u001b[34m(self, shap_values, features)\u001b[39m\n\u001b[32m     26\u001b[39m     \u001b[38;5;28;01mdef\u001b[39;00m explain_instance(self, instance: pd.Series) -> shap.Explanation:\n\u001b[32m     27\u001b[39m         \"\"\"\n\u001b[32m---> \u001b[39m\u001b[32m28\u001b[39m         Explain a single prediction using SHAP values.\n\u001b[32m     29\u001b[39m \n\u001b[32m     30\u001b[39m         :param instance: A single row of input data\n\u001b[32m     31\u001b[39m         :\u001b[38;5;28;01mreturn\u001b[39;00m: SHAP explanation object\n",
      "\u001b[32m~/.python/current/lib/python3.12/site-packages/pandas/core/generic.py\u001b[39m in \u001b[36m?\u001b[39m\u001b[34m(self)\u001b[39m\n\u001b[32m   1525\u001b[39m     @final\n\u001b[32m   1526\u001b[39m     \u001b[38;5;28;01mdef\u001b[39;00m __nonzero__(self) -> NoReturn:\n\u001b[32m-> \u001b[39m\u001b[32m1527\u001b[39m         raise ValueError(\n\u001b[32m   1528\u001b[39m             f\"The truth value of a {type(self).__name__} is ambiguous. \"\n\u001b[32m   1529\u001b[39m             \u001b[33m\"Use a.empty, a.bool(), a.item(), a.any() or a.all().\"\u001b[39m\n\u001b[32m   1530\u001b[39m         )\n",
      "\u001b[31mValueError\u001b[39m: The truth value of a DataFrame is ambiguous. Use a.empty, a.bool(), a.item(), a.any() or a.all()."
     ]
    }
   ],
   "source": [
    "import pandas as pd\n",
    "import shap\n",
    "from sklearn.model_selection import train_test_split\n",
    "from sklearn.ensemble import RandomForestClassifier\n",
    "import matplotlib.pyplot as plt\n",
    "from explainbench.shap_wrapper import SHAPExplainer\n",
    "print(SHAPExplainer.__doc__)\n",
    "\n",
    "# Load cleaned COMPAS dataset\n",
    "df = pd.read_csv('../datasets/compas_clean.csv')\n",
    "target = 'Two_yr_Recidivism'\n",
    "X = df.drop(columns=[target])\n",
    "y = df[target]\n",
    "\n",
    "# Split data\n",
    "X_train, X_test, y_train, y_test = train_test_split(X, y, test_size=0.2, random_state=42)\n",
    "\n",
    "# Train model\n",
    "model = RandomForestClassifier(n_estimators=100, random_state=42)\n",
    "model.fit(X_train, y_train)\n",
    "\n",
    "# Initialize SHAP explainer\n",
    "explainer = SHAPExplainer(model, X_train, model_type='tree')\n",
    "\n",
    "# Compute SHAP values (global)\n",
    "shap_values = explainer.explain_global(num_samples=200)\n",
    "\n",
    "# DEBUG: check shapes before plotting\n",
    "print(\"shap_values shape:\", getattr(shap_values, 'values', shap_values).shape)\n",
    "print(\"X_train shape:\", X_train.shape)\n",
    "print(\"X_train.columns:\", X_train.columns.tolist())\n",
    "\n",
    "# Plot SHAP summary\n",
    "explainer.plot_summary(shap_values, features=X_train)\n",
    "\n",
    "# Explain one instance\n",
    "instance = X_test.iloc[0]\n",
    "instance_shap = explainer.explain_instance(instance)\n",
    "shap.plots.waterfall(instance_shap[0])\n"
   ]
  },
  {
   "cell_type": "markdown",
   "id": "274a6b72",
   "metadata": {},
   "source": [
    "For fairness analysis"
   ]
  },
  {
   "cell_type": "code",
   "execution_count": null,
   "id": "db7fdcaf",
   "metadata": {},
   "outputs": [],
   "source": [
    "import pandas as pd\n",
    "import shap\n",
    "import numpy as np\n",
    "from sklearn.model_selection import train_test_split\n",
    "from sklearn.ensemble import RandomForestClassifier\n",
    "from sklearn.preprocessing import LabelEncoder\n",
    "from sklearn.metrics import accuracy_score\n",
    "import matplotlib.pyplot as plt\n",
    "from explainbench.shap_wrapper import SHAPExplainer\n",
    "\n",
    "# Load COMPAS dataset (assumed to be cleaned)\n",
    "df = pd.read_csv('../datasets/compas_clean.csv')\n",
    "\n",
    "# Preprocess data\n",
    "target = 'two_year_recid'\n",
    "categorical = ['sex', 'race', 'age_cat', 'c_charge_degree']\n",
    "\n",
    "for col in categorical:\n",
    "    df[col] = LabelEncoder().fit_transform(df[col])\n",
    "\n",
    "X = df.drop(columns=[target])\n",
    "y = df[target]\n",
    "\n",
    "# Split data\n",
    "X_train, X_test, y_train, y_test = train_test_split(X, y, test_size=0.2, random_state=42)\n",
    "\n",
    "# Train model\n",
    "model = RandomForestClassifier(n_estimators=100, random_state=42)\n",
    "model.fit(X_train, y_train)\n",
    "\n",
    "# Predictions for fairness analysis\n",
    "y_pred = model.predict(X_test)\n",
    "y_prob = model.predict_proba(X_test)[:, 1]\n",
    "X_test['pred'] = y_pred\n",
    "X_test['actual'] = y_test.values\n",
    "X_test['prob'] = y_prob\n",
    "X_test['race'] = df.loc[X_test.index, 'race']\n",
    "X_test['sex'] = df.loc[X_test.index, 'sex']\n",
    "\n",
    "# Accuracy by group\n",
    "def group_accuracy(df, group_col):\n",
    "    return df.groupby(group_col).apply(lambda x: accuracy_score(x['actual'], x['pred'])).rename('accuracy')\n",
    "\n",
    "print(\"Accuracy by race:\")\n",
    "print(group_accuracy(X_test, 'race'))\n",
    "\n",
    "print(\"Accuracy by sex:\")\n",
    "print(group_accuracy(X_test, 'sex'))\n",
    "\n",
    "# Disparate impact ratio\n",
    "def disparate_impact(df, protected_col, privileged_val):\n",
    "    favorable = df['pred'] == 0\n",
    "    groups = df.groupby(protected_col)\n",
    "    prob_priv = (groups.get_group(privileged_val)['pred'] == 0).mean()\n",
    "    ratios = {}\n",
    "    for group, group_df in groups:\n",
    "        if group != privileged_val:\n",
    "            prob_group = (group_df['pred'] == 0).mean()\n",
    "            ratios[group] = round(prob_group / prob_priv, 3)\n",
    "    return ratios\n",
    "\n",
    "print(\"Disparate impact by race (privileged=0):\")\n",
    "print(disparate_impact(X_test, 'race', 0))\n",
    "\n",
    "print(\"Disparate impact by sex (privileged=0):\")\n",
    "print(disparate_impact(X_test, 'sex', 0))\n",
    "\n",
    "# SHAP explanations\n",
    "explainer = SHAPExplainer(model, X_train, model_type='tree')\n",
    "shap_values = explainer.explain_global(num_samples=200)\n",
    "explainer.plot_summary(shap_values, features=X_train)\n",
    "\n",
    "# Waterfall for an example\n",
    "instance = X_test.drop(columns=['pred', 'actual', 'prob', 'race', 'sex']).iloc[0]\n",
    "instance_shap = explainer.explain_instance(instance)\n",
    "shap.plots.waterfall(instance_shap[0])\n",
    "\n",
    "# Save global summary plot\n",
    "plt.figure()\n",
    "shap.summary_plot(shap_values.values, X_train, show=False)\n",
    "plt.tight_layout()\n",
    "plt.savefig('shap_summary_plot.png')\n",
    "\n",
    "# Group-wise feature importance (mean SHAP)\n",
    "def group_shap_means(df, shap_values, group_col):\n",
    "    df_temp = df.copy()\n",
    "    df_temp[group_col] = df[group_col]\n",
    "    df_temp_shap = pd.DataFrame(shap_values.values, columns=df.columns)\n",
    "    df_temp_shap[group_col] = df_temp[group_col].values\n",
    "    return df_temp_shap.groupby(group_col).mean()\n",
    "\n",
    "race_importance = group_shap_means(X_train, shap_values, 'race')\n",
    "race_importance.T.plot(kind='bar', figsize=(10, 6))\n",
    "plt.title('Mean SHAP Values by Race')\n",
    "plt.ylabel('Mean SHAP Value')\n",
    "plt.tight_layout()\n",
    "plt.savefig('shap_race_comparison.png')\n"
   ]
  }
 ],
 "metadata": {
  "kernelspec": {
   "display_name": "Python 3",
   "language": "python",
   "name": "python3"
  },
  "language_info": {
   "codemirror_mode": {
    "name": "ipython",
    "version": 3
   },
   "file_extension": ".py",
   "mimetype": "text/x-python",
   "name": "python",
   "nbconvert_exporter": "python",
   "pygments_lexer": "ipython3",
   "version": "3.12.1"
  }
 },
 "nbformat": 4,
 "nbformat_minor": 5
}
